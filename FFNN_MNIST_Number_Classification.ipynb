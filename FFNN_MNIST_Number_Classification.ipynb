{
  "nbformat": 4,
  "nbformat_minor": 0,
  "metadata": {
    "colab": {
      "name": "FFNN_MNIST_Number_Classification.ipynb",
      "provenance": [],
      "authorship_tag": "ABX9TyOSaGPvbNIroO/9GwaevM2z",
      "include_colab_link": true
    },
    "kernelspec": {
      "name": "python3",
      "display_name": "Python 3"
    },
    "language_info": {
      "name": "python"
    },
    "accelerator": "GPU"
  },
  "cells": [
    {
      "cell_type": "markdown",
      "metadata": {
        "id": "view-in-github",
        "colab_type": "text"
      },
      "source": [
        "<a href=\"https://colab.research.google.com/github/meghalshah9531/Deep_Learning_Udacity/blob/master/FFNN_MNIST_Number_Classification.ipynb\" target=\"_parent\"><img src=\"https://colab.research.google.com/assets/colab-badge.svg\" alt=\"Open In Colab\"/></a>"
      ]
    },
    {
      "cell_type": "code",
      "execution_count": null,
      "metadata": {
        "id": "gvgfg19Iv9Po"
      },
      "outputs": [],
      "source": [
        "import torch \n",
        "from torch import nn, optim \n",
        "import torchvision \n",
        "import torchvision.transforms as transforms \n",
        "import matplotlib.pyplot as plt "
      ]
    },
    {
      "cell_type": "code",
      "source": [
        "# Checking Device Availablity \n",
        "device = torch.device('cuda' if torch.cuda.is_available() else 'cpu')"
      ],
      "metadata": {
        "id": "qcVYsRbZwPXQ"
      },
      "execution_count": null,
      "outputs": []
    },
    {
      "cell_type": "code",
      "source": [
        "# Hyper Parameters \n",
        "\n",
        "# Input size consists of 28 x 28 image pixels \n",
        "input_size = 784 \n",
        "\n",
        "# No. of Nurons in Hidden Layer \n",
        "hidden_size = 400 \n",
        "\n",
        "# Total no. of classes (Output class)\n",
        "num_classes = 10 \n",
        "\n",
        "# No. of Epochs \n",
        "num_epochs = 5 \n",
        "\n",
        "# Batch size \n",
        "batch_size = 100\n",
        "\n",
        "# Learning Rate \n",
        "learning_rate = 0.005"
      ],
      "metadata": {
        "id": "JnswJJElwbVQ"
      },
      "execution_count": null,
      "outputs": []
    },
    {
      "cell_type": "code",
      "source": [
        "# MNIST dataset \n",
        "train_dataset = torchvision.datasets.MNIST(root='./data', train=True, transform=transforms.ToTensor(), download=True)\n",
        "test_dataset = torchvision.datasets.MNIST(root='./data', train=False, transform=transforms.ToTensor())"
      ],
      "metadata": {
        "id": "8pEUk_B9wtgv"
      },
      "execution_count": null,
      "outputs": []
    },
    {
      "cell_type": "code",
      "source": [
        "train_loader = torch.utils.data.DataLoader(dataset=train_dataset, batch_size=batch_size, shuffle=True)\n",
        "test_loader = torch.utils.data.DataLoader(dataset=test_dataset, batch_size=batch_size)"
      ],
      "metadata": {
        "id": "jC6O1URcxDl5"
      },
      "execution_count": null,
      "outputs": []
    },
    {
      "cell_type": "code",
      "source": [
        "examples = iter(train_loader)\n",
        "samples, labels = examples.next()\n",
        "print(samples.shape, labels.shape)"
      ],
      "metadata": {
        "colab": {
          "base_uri": "https://localhost:8080/"
        },
        "id": "J8UoFKmRxXdg",
        "outputId": "378d4422-b9e3-42a4-9062-0ffee3214f74"
      },
      "execution_count": null,
      "outputs": [
        {
          "output_type": "stream",
          "name": "stdout",
          "text": [
            "torch.Size([100, 1, 28, 28]) torch.Size([100])\n"
          ]
        }
      ]
    },
    {
      "cell_type": "code",
      "source": [
        "for i in range(6):\n",
        "  plt.subplot(2, 3, i+1)\n",
        "  plt.imshow(samples[i][0], cmap='gray')\n",
        "plt.show()"
      ],
      "metadata": {
        "colab": {
          "base_uri": "https://localhost:8080/",
          "height": 267
        },
        "id": "9U4d7VKNxr7v",
        "outputId": "dd5b8d31-3095-4283-d15f-8a24bfb80ca1"
      },
      "execution_count": null,
      "outputs": [
        {
          "output_type": "display_data",
          "data": {
            "text/plain": [
              "<Figure size 432x288 with 6 Axes>"
            ],
            "image/png": "[encoded data removed]"
          },
          "metadata": {
            "needs_background": "light"
          }
        }
      ]
    },
    {
      "cell_type": "code",
      "source": [
        "# Fully-connected Neural Network with one Hidden layer \n",
        "class NeuralNet(nn.Module):\n",
        "  def __init__(self, input_size, hidden_size, num_classes):\n",
        "    super(NeuralNet, self).__init__()\n",
        "    self.l1 = nn.Linear(input_size, hidden_size)\n",
        "    self.relu = nn.ReLU()\n",
        "    self.l2 = nn.Linear(hidden_size, num_classes)\n",
        "\n",
        "  def forward(self, x):\n",
        "    out = self.l1(x)\n",
        "    out = self.relu(out)\n",
        "    out = self.l2(out)\n",
        "    return out \n",
        "model = NeuralNet(input_size, hidden_size, num_classes).to(device)"
      ],
      "metadata": {
        "id": "dBgM9shCyL2o"
      },
      "execution_count": null,
      "outputs": []
    },
    {
      "cell_type": "code",
      "source": [
        "criterion = nn.CrossEntropyLoss()\n",
        "optimizer = optim.Adam(model.parameters(), lr=learning_rate)"
      ],
      "metadata": {
        "id": "Gu9xpbSczFVv"
      },
      "execution_count": null,
      "outputs": []
    },
    {
      "cell_type": "code",
      "source": [
        "# training loop \n",
        "n_total = len(train_loader)\n",
        "for epoch in range(num_epochs):\n",
        "  for i, (images, labels) in enumerate(train_loader):\n",
        "    # 64, 1, 28, 28 \n",
        "    # 64, 784 \n",
        "    images = images.reshape(-1, 28*28).to(device)\n",
        "    labels = labels.to(device)\n",
        "    outputs = model(images)\n",
        "    loss = criterion(outputs, labels)\n",
        "\n",
        "    optimizer.zero_grad()\n",
        "    loss.backward()\n",
        "    optimizer.step()\n",
        "\n",
        "    if (i+1) % 100 == 0:\n",
        "      print(f'epoch {epoch+1} / {num_epochs}, step {i+1}/{n_total}, loss={loss.item():.4f}')\n"
      ],
      "metadata": {
        "colab": {
          "base_uri": "https://localhost:8080/"
        },
        "id": "Rx0N7hBpzT6Q",
        "outputId": "291b9fc9-5cf2-4178-8c61-7026f7d28815"
      },
      "execution_count": null,
      "outputs": [
        {
          "output_type": "stream",
          "name": "stdout",
          "text": [
            "epoch 1 / 5, step 100/600, loss=0.1241\n",
            "epoch 1 / 5, step 200/600, loss=0.1179\n",
            "epoch 1 / 5, step 300/600, loss=0.2054\n",
            "epoch 1 / 5, step 400/600, loss=0.1974\n",
            "epoch 1 / 5, step 500/600, loss=0.2240\n",
            "epoch 1 / 5, step 600/600, loss=0.1949\n",
            "epoch 2 / 5, step 100/600, loss=0.0406\n",
            "epoch 2 / 5, step 200/600, loss=0.1153\n",
            "epoch 2 / 5, step 300/600, loss=0.0895\n",
            "epoch 2 / 5, step 400/600, loss=0.0840\n",
            "epoch 2 / 5, step 500/600, loss=0.1575\n",
            "epoch 2 / 5, step 600/600, loss=0.2753\n",
            "epoch 3 / 5, step 100/600, loss=0.0368\n",
            "epoch 3 / 5, step 200/600, loss=0.0183\n",
            "epoch 3 / 5, step 300/600, loss=0.0087\n",
            "epoch 3 / 5, step 400/600, loss=0.1051\n",
            "epoch 3 / 5, step 500/600, loss=0.0321\n",
            "epoch 3 / 5, step 600/600, loss=0.0523\n",
            "epoch 4 / 5, step 100/600, loss=0.0552\n",
            "epoch 4 / 5, step 200/600, loss=0.0190\n",
            "epoch 4 / 5, step 300/600, loss=0.0351\n",
            "epoch 4 / 5, step 400/600, loss=0.0690\n",
            "epoch 4 / 5, step 500/600, loss=0.0742\n",
            "epoch 4 / 5, step 600/600, loss=0.0230\n",
            "epoch 5 / 5, step 100/600, loss=0.0189\n",
            "epoch 5 / 5, step 200/600, loss=0.0137\n",
            "epoch 5 / 5, step 300/600, loss=0.0574\n",
            "epoch 5 / 5, step 400/600, loss=0.0626\n",
            "epoch 5 / 5, step 500/600, loss=0.0064\n",
            "epoch 5 / 5, step 600/600, loss=0.0110\n"
          ]
        }
      ]
    },
    {
      "cell_type": "code",
      "source": [
        "# Testing \n",
        "with torch.no_grad():\n",
        "  n_correct = 0 \n",
        "  n_samples = 0 \n",
        "  for images, labels in test_loader:\n",
        "    images = images.reshape(-1, 28*28).to(device)\n",
        "    labels = labels.to(device)\n",
        "    outputs = model(images)\n",
        "\n",
        "    _, predictions = torch.max(outputs, 1)\n",
        "    n_samples += labels.shape[0]\n",
        "    n_correct += (predictions == labels).sum().item()\n",
        "  acc = 100.0 * n_correct/n_samples\n",
        "  print(f'accuracy = {acc}')"
      ],
      "metadata": {
        "colab": {
          "base_uri": "https://localhost:8080/"
        },
        "id": "NyFT29750hFp",
        "outputId": "e1b9d31c-7b4c-4f52-ab3a-2c12eb321e8d"
      },
      "execution_count": null,
      "outputs": [
        {
          "output_type": "stream",
          "name": "stdout",
          "text": [
            "accuracy = 97.77\n"
          ]
        }
      ]
    }
  ]
}